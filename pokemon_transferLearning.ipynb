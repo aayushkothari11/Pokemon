{
 "cells": [
  {
   "cell_type": "code",
   "execution_count": 0,
   "metadata": {
    "colab": {
     "base_uri": "https://localhost:8080/",
     "height": 207
    },
    "colab_type": "code",
    "id": "09GGymCM7Q4w",
    "outputId": "69a5c5d5-b3d6-4226-816e-ffade542f17d"
   },
   "outputs": [
    {
     "name": "stdout",
     "output_type": "stream",
     "text": [
      "Requirement already satisfied: PyDrive in /usr/local/lib/python3.6/dist-packages (1.3.1)\n",
      "Requirement already satisfied: PyYAML>=3.0 in /usr/local/lib/python3.6/dist-packages (from PyDrive) (3.13)\n",
      "Requirement already satisfied: oauth2client>=4.0.0 in /usr/local/lib/python3.6/dist-packages (from PyDrive) (4.1.3)\n",
      "Requirement already satisfied: google-api-python-client>=1.2 in /usr/local/lib/python3.6/dist-packages (from PyDrive) (1.6.7)\n",
      "Requirement already satisfied: rsa>=3.1.4 in /usr/local/lib/python3.6/dist-packages (from oauth2client>=4.0.0->PyDrive) (4.0)\n",
      "Requirement already satisfied: six>=1.6.1 in /usr/local/lib/python3.6/dist-packages (from oauth2client>=4.0.0->PyDrive) (1.12.0)\n",
      "Requirement already satisfied: httplib2>=0.9.1 in /usr/local/lib/python3.6/dist-packages (from oauth2client>=4.0.0->PyDrive) (0.11.3)\n",
      "Requirement already satisfied: pyasn1>=0.1.7 in /usr/local/lib/python3.6/dist-packages (from oauth2client>=4.0.0->PyDrive) (0.4.5)\n",
      "Requirement already satisfied: pyasn1-modules>=0.0.5 in /usr/local/lib/python3.6/dist-packages (from oauth2client>=4.0.0->PyDrive) (0.2.5)\n",
      "Requirement already satisfied: uritemplate<4dev,>=3.0.0 in /usr/local/lib/python3.6/dist-packages (from google-api-python-client>=1.2->PyDrive) (3.0.0)\n"
     ]
    }
   ],
   "source": [
    "!pip install PyDrive\n",
    "\n",
    "from pydrive.auth import GoogleAuth\n",
    "from pydrive.drive import GoogleDrive\n",
    "from google.colab import auth\n",
    "from oauth2client.client import GoogleCredentials"
   ]
  },
  {
   "cell_type": "code",
   "execution_count": 0,
   "metadata": {
    "colab": {},
    "colab_type": "code",
    "id": "XAM_ROdg79J3"
   },
   "outputs": [],
   "source": [
    "auth.authenticate_user()\n",
    "gauth = GoogleAuth()\n",
    "gauth.credentials = GoogleCredentials.get_application_default()\n",
    "drive = GoogleDrive(gauth)"
   ]
  },
  {
   "cell_type": "code",
   "execution_count": 0,
   "metadata": {
    "colab": {
     "base_uri": "https://localhost:8080/",
     "height": 34
    },
    "colab_type": "code",
    "id": "hg4yc2dz8A7w",
    "outputId": "4ceceb02-c5b0-4716-b1e5-576834094a6e"
   },
   "outputs": [
    {
     "name": "stdout",
     "output_type": "stream",
     "text": [
      "dataset.zip\n"
     ]
    }
   ],
   "source": [
    "fileId = drive.CreateFile({'id': '#'}) \n",
    "print(fileId['title'])  # dataset.zip\n",
    "fileId.GetContentFile('dataset.zip')  # Save Drive file as a local file"
   ]
  },
  {
   "cell_type": "code",
   "execution_count": 0,
   "metadata": {
    "colab": {
     "base_uri": "https://localhost:8080/",
     "height": 34
    },
    "colab_type": "code",
    "id": "XCKaln738HDM",
    "outputId": "8ce3923d-56b3-431d-985b-0d8e58722242"
   },
   "outputs": [
    {
     "name": "stderr",
     "output_type": "stream",
     "text": [
      "Using TensorFlow backend.\n"
     ]
    }
   ],
   "source": [
    "import pandas as pd\n",
    "import numpy as np\n",
    "import os\n",
    "import keras\n",
    "from pathlib import Path\n",
    "import matplotlib.pyplot as plt\n",
    "from keras.layers import Dense,GlobalAveragePooling2D\n",
    "from keras.applications.vgg16 import VGG16\n",
    "from keras.preprocessing import image\n",
    "from keras.applications.mobilenet import preprocess_input\n",
    "from keras.preprocessing.image import ImageDataGenerator\n",
    "from keras.models import Model\n",
    "from keras.optimizers import Adam\n",
    "from sklearn.preprocessing import LabelBinarizer\n",
    "from sklearn.model_selection import train_test_split"
   ]
  },
  {
   "cell_type": "code",
   "execution_count": 0,
   "metadata": {
    "colab": {
     "base_uri": "https://localhost:8080/",
     "height": 2655
    },
    "colab_type": "code",
    "id": "REjlfaJv9lvj",
    "outputId": "98956040-d9ab-4fac-dde4-ed13733b7f71"
   },
   "outputs": [
    {
     "name": "stdout",
     "output_type": "stream",
     "text": [
      "Mewtwo\n"
     ]
    },
    {
     "name": "stderr",
     "output_type": "stream",
     "text": [
      "/usr/local/lib/python3.6/dist-packages/PIL/Image.py:914: UserWarning: Palette images with Transparency   expressed in bytes should be converted to RGBA images\n",
      "  'to RGBA images')\n"
     ]
    },
    {
     "name": "stdout",
     "output_type": "stream",
     "text": [
      "Clefairy\n",
      "Pidgeotto\n",
      "Articuno\n",
      "Rapidash\n",
      "Sandshrew\n",
      "Nidoran♂\n",
      "Weepinbell\n",
      "Rattata\n",
      "Krabby\n",
      "Nidorino\n",
      "Zapdos\n",
      "Beedrill\n",
      "Muk\n",
      "Omanyte\n",
      "Venomoth\n",
      "Vileplume\n",
      "Arcanine\n",
      "Rhyhorn\n",
      "Kakuna\n",
      "Horsea\n",
      "Diglett\n",
      "Metapod\n",
      "Nidoqueen\n",
      "Kangaskhan\n",
      "Magikarp\n",
      "Charmeleon\n",
      "Butterfree\n",
      "MrMime\n",
      "Kabuto\n",
      "Hitmonchan\n",
      "Dragonite\n",
      "Moltres\n",
      "Jynx\n",
      "Gloom\n",
      "Tentacool\n",
      "Flareon\n",
      "Marowak\n",
      "Drowzee\n",
      "Nidorina\n",
      "Mankey\n",
      "Eevee\n",
      "Goldeen\n",
      "Machop\n",
      "Magneton\n",
      "Electabuzz\n",
      "Victreebel\n",
      "Wigglytuff\n",
      "Cloyster\n",
      "Raichu\n",
      "Parasect\n",
      "Cubone\n",
      "Mew\n",
      "Psyduck\n",
      "Poliwag\n",
      "Weezing\n",
      "Scyther\n",
      "Aerodactyl\n",
      "Kabutops\n",
      "Arbok\n",
      "Chansey\n",
      "Nidoran♀\n",
      "Koffing\n",
      "Weedle\n",
      "Bellsprout\n",
      "Persian\n",
      "Slowbro\n",
      "Squirtle\n",
      "Tentacruel\n",
      "Pidgeot\n",
      "Hypno\n",
      "Seadra\n",
      "Ditto\n",
      "Paras\n",
      "Nidoking\n",
      "Machoke\n",
      "Abra\n",
      "Lickitung\n",
      "Pidgey\n",
      "Geodude\n",
      "Pinsir\n",
      "Dodrio\n",
      "Meowth\n",
      "Snorlax\n",
      "Grimer\n",
      "Charmander\n",
      "Onix\n",
      "Graveler\n",
      "Gengar\n",
      "Sandslash\n",
      "Raticate\n",
      "Fearow\n",
      "Charizard\n",
      "Golduck\n",
      "Bulbasaur\n",
      "Slowpoke\n",
      "Kadabra\n",
      "Dratini\n",
      "Gyarados\n",
      "Poliwrath\n",
      "Clefable\n",
      "Staryu\n",
      "Blastoise\n",
      "Electrode\n",
      "Machamp\n",
      "Dragonair\n",
      "Venonat\n",
      "Spearow\n",
      "Tangela\n",
      "Seel\n",
      "Growlithe\n",
      "Ivysaur\n",
      "Primeape\n",
      "Doduo\n",
      "Rhydon\n",
      "Vulpix\n",
      "Starmie\n",
      "Haunter\n",
      "Voltorb\n",
      "Kingler\n",
      "Omastar\n",
      "Gastly\n",
      "Venusaur\n",
      "Jigglypuff\n",
      "Oddish\n",
      "Hitmonlee\n",
      "Caterpie\n",
      "Vaporeon\n",
      "Zubat\n",
      "Dewgong\n",
      "Exeggutor\n",
      "Porygon\n",
      "Farfetchd\n",
      "Ninetales\n",
      "Ekans\n",
      "Golbat\n",
      "Alakazam\n",
      "Dugtrio\n",
      "Tauros\n",
      "Magmar\n",
      "Poliwhirl\n",
      "Lapras\n",
      "Magnemite\n",
      "Pikachu\n",
      "Shellder\n",
      "Golem\n",
      "Jolteon\n",
      "Ponyta\n",
      "Wartortle\n",
      "Exeggcute\n",
      "Seaking\n",
      "There are 10624 images\n"
     ]
    }
   ],
   "source": [
    "# !unzip dataset.zip -d ./\n",
    "\n",
    "images = []\n",
    "labels = []\n",
    "p = Path('dataset')\n",
    "dirs = p.glob('*')\n",
    "total = 0\n",
    "for folder in dirs:\n",
    "    label = str(folder).split('/')[-1]\n",
    "    cnt = 0\n",
    "    print(label)\n",
    "    # read png file \n",
    "    for img_path in folder.glob('*.png'):\n",
    "        img = image.load_img(img_path, target_size=(96, 96))\n",
    "        img_array = image.img_to_array(img)\n",
    "        images.append(img_array)\n",
    "        labels.append(label)\n",
    "        cnt += 1\n",
    "        total += 1\n",
    "    \n",
    "    # read jpg files\n",
    "    for img_path in folder.glob('*.jpg'):\n",
    "        img = image.load_img(img_path, target_size=(96, 96))\n",
    "        img_array = image.img_to_array(img)\n",
    "        images.append(img_array)\n",
    "        labels.append(label)\n",
    "        cnt += 1\n",
    "        total += 1\n",
    "        \n",
    "print('There are' ,total,\"images\")"
   ]
  },
  {
   "cell_type": "code",
   "execution_count": 0,
   "metadata": {
    "colab": {},
    "colab_type": "code",
    "id": "WR5iwaP29m9p"
   },
   "outputs": [],
   "source": [
    "data = np.array(images, dtype=\"float\") / 255.0\n",
    "labels = np.array(labels)"
   ]
  },
  {
   "cell_type": "code",
   "execution_count": 0,
   "metadata": {
    "colab": {},
    "colab_type": "code",
    "id": "LceFRuaB-tKe"
   },
   "outputs": [],
   "source": [
    "input_shape = data[0].shape\n",
    "\n",
    "base_model= VGG16(weights='imagenet',include_top=False, input_shape=input_shape)\n",
    "\n",
    "x=base_model.output\n",
    "x=GlobalAveragePooling2D()(x)\n",
    "x=Dense(2048,activation='relu')(x) \n",
    "x=Dense(2048,activation='relu')(x) \n",
    "preds=Dense(149,activation='softmax')(x) \n",
    "\n",
    "\n",
    "model=Model(inputs=base_model.input,outputs=preds)"
   ]
  },
  {
   "cell_type": "code",
   "execution_count": 0,
   "metadata": {
    "colab": {
     "base_uri": "https://localhost:8080/",
     "height": 51
    },
    "colab_type": "code",
    "id": "gjtDZEXn9zwk",
    "outputId": "0260d69a-edb3-48d1-d7a3-8e1966994f52"
   },
   "outputs": [
    {
     "data": {
      "text/plain": [
       "array(['Metapod', 'Mankey', 'Nidoqueen', ..., 'Pinsir', 'Nidorino',\n",
       "       'Staryu'], dtype='<U10')"
      ]
     },
     "execution_count": 9,
     "metadata": {
      "tags": []
     },
     "output_type": "execute_result"
    }
   ],
   "source": [
    "data.shape\n",
    "from sklearn.utils import shuffle\n",
    "data, labels = shuffle(data, labels, random_state=42)\n",
    "labels"
   ]
  },
  {
   "cell_type": "code",
   "execution_count": 0,
   "metadata": {
    "colab": {},
    "colab_type": "code",
    "id": "xusXJQAHAPSk"
   },
   "outputs": [],
   "source": [
    "labels.shape\n",
    "lb = LabelBinarizer()\n",
    "labels = lb.fit_transform(labels)"
   ]
  },
  {
   "cell_type": "code",
   "execution_count": 0,
   "metadata": {
    "colab": {},
    "colab_type": "code",
    "id": "vqeY269YARqX"
   },
   "outputs": [],
   "source": [
    "for layer in model.layers:\n",
    "    layer.trainable=False\n",
    "\n",
    "for layer in model.layers[:20]:\n",
    "    layer.trainable=False\n",
    "for layer in model.layers[20:]:\n",
    "    layer.trainable=True"
   ]
  },
  {
   "cell_type": "code",
   "execution_count": 0,
   "metadata": {
    "colab": {},
    "colab_type": "code",
    "id": "NT14jneuAV0a"
   },
   "outputs": [],
   "source": [
    "aug = ImageDataGenerator(rotation_range=25, width_shift_range=0.1, height_shift_range=0.1, shear_range=0.2, zoom_range=0.2,horizontal_flip=True, fill_mode=\"nearest\")"
   ]
  },
  {
   "cell_type": "code",
   "execution_count": 0,
   "metadata": {
    "colab": {},
    "colab_type": "code",
    "id": "yGvsJmQPAnKR"
   },
   "outputs": [],
   "source": [
    "(trainX, testX, trainY, testY) = train_test_split(data, labels, test_size=0.2)"
   ]
  },
  {
   "cell_type": "code",
   "execution_count": 0,
   "metadata": {
    "colab": {
     "base_uri": "https://localhost:8080/",
     "height": 374
    },
    "colab_type": "code",
    "id": "XDC17Ef7A_sY",
    "outputId": "2361588a-6150-4079-beb5-c630bc8aa3f4"
   },
   "outputs": [
    {
     "name": "stdout",
     "output_type": "stream",
     "text": [
      "Train on 8499 samples, validate on 2125 samples\n",
      "Epoch 1/10\n",
      "8499/8499 [==============================] - 1071s 126ms/step - loss: 4.5395 - acc: 0.0940 - val_loss: 3.9899 - val_acc: 0.1628\n",
      "Epoch 2/10\n",
      "8499/8499 [==============================] - 1070s 126ms/step - loss: 3.6115 - acc: 0.2136 - val_loss: 3.4144 - val_acc: 0.2532\n",
      "Epoch 3/10\n",
      "8499/8499 [==============================] - 1071s 126ms/step - loss: 3.0560 - acc: 0.3119 - val_loss: 3.1715 - val_acc: 0.2969\n",
      "Epoch 4/10\n",
      "8499/8499 [==============================] - 1068s 126ms/step - loss: 2.6665 - acc: 0.3768 - val_loss: 3.0454 - val_acc: 0.3252\n",
      "Epoch 5/10\n",
      "8499/8499 [==============================] - 1069s 126ms/step - loss: 2.3531 - acc: 0.4478 - val_loss: 2.8259 - val_acc: 0.3595\n",
      "Epoch 6/10\n",
      "8499/8499 [==============================] - 1068s 126ms/step - loss: 2.0768 - acc: 0.4942 - val_loss: 2.7796 - val_acc: 0.3689\n",
      "Epoch 7/10\n",
      "8499/8499 [==============================] - 1040s 122ms/step - loss: 1.8261 - acc: 0.5519 - val_loss: 2.7718 - val_acc: 0.3788\n",
      "Epoch 8/10\n",
      "8499/8499 [==============================] - 1067s 126ms/step - loss: 1.6173 - acc: 0.5987 - val_loss: 2.7695 - val_acc: 0.3939\n",
      "Epoch 9/10\n",
      "8499/8499 [==============================] - 1069s 126ms/step - loss: 1.3935 - acc: 0.6500 - val_loss: 2.8014 - val_acc: 0.3972\n",
      "Epoch 10/10\n",
      "8499/8499 [==============================] - 1069s 126ms/step - loss: 1.1933 - acc: 0.6994 - val_loss: 2.8070 - val_acc: 0.3962\n"
     ]
    }
   ],
   "source": [
    "EPOCHS = 10\n",
    "INIT_LR = 1e-3\n",
    "model.compile(loss=\"categorical_crossentropy\", optimizer=Adam(lr=INIT_LR, decay=INIT_LR / EPOCHS), metrics=[\"accuracy\"])\n",
    "\n",
    "\n",
    "H = model.fit(x=trainX, y=trainY,validation_data=(testX, testY), epochs=EPOCHS, verbose=1, batch_size=128)"
   ]
  },
  {
   "cell_type": "code",
   "execution_count": 0,
   "metadata": {
    "colab": {},
    "colab_type": "code",
    "id": "SGzpCnwgB8Ms"
   },
   "outputs": [],
   "source": [
    "m"
   ]
  }
 ],
 "metadata": {
  "colab": {
   "collapsed_sections": [],
   "name": "pokemon_transferLearning.ipynb",
   "provenance": [],
   "version": "0.3.2"
  },
  "kernelspec": {
   "display_name": "Python 3",
   "language": "python",
   "name": "python3"
  },
  "language_info": {
   "codemirror_mode": {
    "name": "ipython",
    "version": 3
   },
   "file_extension": ".py",
   "mimetype": "text/x-python",
   "name": "python",
   "nbconvert_exporter": "python",
   "pygments_lexer": "ipython3",
   "version": "3.5.2"
  }
 },
 "nbformat": 4,
 "nbformat_minor": 1
}
